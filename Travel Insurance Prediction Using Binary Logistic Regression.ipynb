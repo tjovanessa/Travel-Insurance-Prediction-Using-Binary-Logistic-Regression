{
 "cells": [
  {
   "cell_type": "markdown",
   "metadata": {
    "id": "2wBQS4dOVgj2"
   },
   "source": [
    "# Travel Insurance Prediction Using Binary Logistic Regression\n",
    "Created at 30/06/2023\n",
    "\n",
    "#### Dataset\n",
    "**`TravelInsurancePrediction.csv`: https://www.kaggle.com/datasets/tejashvi14/travel-insurance-prediction-data**\n",
    "\n",
    "A tour & travels company is offering a travel insurance package to their customers. The company requires to know which customers would be interested in buying it based on its database history. The data is provided for almost 2000 of its previous customers, and you are required to build an intelligent model that can predict if the customer will be interested in buying the travel insurance package based on certain parameters."
   ]
  },
  {
   "cell_type": "markdown",
   "metadata": {
    "id": "KvPaip4qbWhW"
   },
   "source": [
    "### Import Library"
   ]
  },
  {
   "cell_type": "code",
   "execution_count": null,
   "metadata": {
    "colab": {
     "base_uri": "https://localhost:8080/"
    },
    "id": "0T19ERM7EWDl",
    "outputId": "685b5da4-a837-4da3-af13-8b05b9d95a02"
   },
   "outputs": [
    {
     "name": "stderr",
     "output_type": "stream",
     "text": [
      "Installing package into ‘/usr/local/lib/R/site-library’\n",
      "(as ‘lib’ is unspecified)\n",
      "\n",
      "also installing the dependency ‘zoo’\n",
      "\n",
      "\n",
      "Installing package into ‘/usr/local/lib/R/site-library’\n",
      "(as ‘lib’ is unspecified)\n",
      "\n",
      "also installing the dependencies ‘numDeriv’, ‘SparseM’, ‘MatrixModels’, ‘minqa’, ‘nloptr’, ‘Rcpp’, ‘RcppEigen’, ‘carData’, ‘abind’, ‘pbkrtest’, ‘quantreg’, ‘lme4’\n",
      "\n",
      "\n"
     ]
    }
   ],
   "source": [
    "install.packages(\"lmtest\")\n",
    "install.packages(\"car\")"
   ]
  },
  {
   "cell_type": "code",
   "execution_count": null,
   "metadata": {
    "colab": {
     "base_uri": "https://localhost:8080/"
    },
    "id": "ZrODMt2P_IQl",
    "outputId": "a8b29e59-cb93-4913-b372-b54619d26c0d"
   },
   "outputs": [
    {
     "name": "stderr",
     "output_type": "stream",
     "text": [
      "Installing package into ‘/usr/local/lib/R/site-library’\n",
      "(as ‘lib’ is unspecified)\n",
      "\n"
     ]
    }
   ],
   "source": [
    "install.packages(\"corrplot\")"
   ]
  },
  {
   "cell_type": "code",
   "execution_count": null,
   "metadata": {
    "colab": {
     "base_uri": "https://localhost:8080/"
    },
    "id": "pwaww_Urats1",
    "outputId": "90a33a7b-04da-49fd-a7fc-71a696b32bdb"
   },
   "outputs": [
    {
     "name": "stderr",
     "output_type": "stream",
     "text": [
      "Loading required package: zoo\n",
      "\n",
      "\n",
      "Attaching package: ‘zoo’\n",
      "\n",
      "\n",
      "The following objects are masked from ‘package:base’:\n",
      "\n",
      "    as.Date, as.Date.numeric\n",
      "\n",
      "\n",
      "Loading required package: carData\n",
      "\n",
      "corrplot 0.92 loaded\n",
      "\n"
     ]
    }
   ],
   "source": [
    "library(lmtest)\n",
    "library(car)\n",
    "library(corrplot)"
   ]
  },
  {
   "cell_type": "code",
   "execution_count": null,
   "metadata": {
    "colab": {
     "base_uri": "https://localhost:8080/"
    },
    "id": "BpDQqGL7c1jp",
    "outputId": "4dde3fd0-c540-42e0-9196-e9eff80076ab"
   },
   "outputs": [
    {
     "name": "stderr",
     "output_type": "stream",
     "text": [
      "\n",
      "Attaching package: ‘dplyr’\n",
      "\n",
      "\n",
      "The following object is masked from ‘package:car’:\n",
      "\n",
      "    recode\n",
      "\n",
      "\n",
      "The following objects are masked from ‘package:stats’:\n",
      "\n",
      "    filter, lag\n",
      "\n",
      "\n",
      "The following objects are masked from ‘package:base’:\n",
      "\n",
      "    intersect, setdiff, setequal, union\n",
      "\n",
      "\n"
     ]
    }
   ],
   "source": [
    "library(dplyr)"
   ]
  },
  {
   "cell_type": "markdown",
   "metadata": {
    "id": "rBv_KRXAaYTH"
   },
   "source": [
    "# Binary Classification"
   ]
  },
  {
   "cell_type": "markdown",
   "metadata": {
    "id": "NWJOMSikWPbV"
   },
   "source": [
    "### Dataset"
   ]
  },
  {
   "cell_type": "code",
   "execution_count": null,
   "metadata": {
    "colab": {
     "base_uri": "https://localhost:8080/",
     "height": 286
    },
    "id": "nZRw6YSoWJ5i",
    "outputId": "d1aa3522-8813-429e-b0da-e29c0255b3dc"
   },
   "outputs": [
    {
     "data": {
      "text/html": [
       "<table class=\"dataframe\">\n",
       "<caption>A data.frame: 6 × 9</caption>\n",
       "<thead>\n",
       "\t<tr><th></th><th scope=col>Age</th><th scope=col>Employment.Type</th><th scope=col>GraduateOrNot</th><th scope=col>AnnualIncome</th><th scope=col>FamilyMembers</th><th scope=col>ChronicDiseases</th><th scope=col>FrequentFlyer</th><th scope=col>EverTravelledAbroad</th><th scope=col>TravelInsurance</th></tr>\n",
       "\t<tr><th></th><th scope=col>&lt;int&gt;</th><th scope=col>&lt;chr&gt;</th><th scope=col>&lt;chr&gt;</th><th scope=col>&lt;int&gt;</th><th scope=col>&lt;int&gt;</th><th scope=col>&lt;int&gt;</th><th scope=col>&lt;chr&gt;</th><th scope=col>&lt;chr&gt;</th><th scope=col>&lt;int&gt;</th></tr>\n",
       "</thead>\n",
       "<tbody>\n",
       "\t<tr><th scope=row>1</th><td>31</td><td>Government Sector           </td><td>Yes</td><td> 400000</td><td>6</td><td>1</td><td>No </td><td>No</td><td>0</td></tr>\n",
       "\t<tr><th scope=row>2</th><td>31</td><td>Private Sector/Self Employed</td><td>Yes</td><td>1250000</td><td>7</td><td>0</td><td>No </td><td>No</td><td>0</td></tr>\n",
       "\t<tr><th scope=row>3</th><td>34</td><td>Private Sector/Self Employed</td><td>Yes</td><td> 500000</td><td>4</td><td>1</td><td>No </td><td>No</td><td>1</td></tr>\n",
       "\t<tr><th scope=row>4</th><td>28</td><td>Private Sector/Self Employed</td><td>Yes</td><td> 700000</td><td>3</td><td>1</td><td>No </td><td>No</td><td>0</td></tr>\n",
       "\t<tr><th scope=row>5</th><td>28</td><td>Private Sector/Self Employed</td><td>Yes</td><td> 700000</td><td>8</td><td>1</td><td>Yes</td><td>No</td><td>0</td></tr>\n",
       "\t<tr><th scope=row>6</th><td>25</td><td>Private Sector/Self Employed</td><td>No </td><td>1150000</td><td>4</td><td>0</td><td>No </td><td>No</td><td>0</td></tr>\n",
       "</tbody>\n",
       "</table>\n"
      ],
      "text/latex": [
       "A data.frame: 6 × 9\n",
       "\\begin{tabular}{r|lllllllll}\n",
       "  & Age & Employment.Type & GraduateOrNot & AnnualIncome & FamilyMembers & ChronicDiseases & FrequentFlyer & EverTravelledAbroad & TravelInsurance\\\\\n",
       "  & <int> & <chr> & <chr> & <int> & <int> & <int> & <chr> & <chr> & <int>\\\\\n",
       "\\hline\n",
       "\t1 & 31 & Government Sector            & Yes &  400000 & 6 & 1 & No  & No & 0\\\\\n",
       "\t2 & 31 & Private Sector/Self Employed & Yes & 1250000 & 7 & 0 & No  & No & 0\\\\\n",
       "\t3 & 34 & Private Sector/Self Employed & Yes &  500000 & 4 & 1 & No  & No & 1\\\\\n",
       "\t4 & 28 & Private Sector/Self Employed & Yes &  700000 & 3 & 1 & No  & No & 0\\\\\n",
       "\t5 & 28 & Private Sector/Self Employed & Yes &  700000 & 8 & 1 & Yes & No & 0\\\\\n",
       "\t6 & 25 & Private Sector/Self Employed & No  & 1150000 & 4 & 0 & No  & No & 0\\\\\n",
       "\\end{tabular}\n"
      ],
      "text/markdown": [
       "\n",
       "A data.frame: 6 × 9\n",
       "\n",
       "| <!--/--> | Age &lt;int&gt; | Employment.Type &lt;chr&gt; | GraduateOrNot &lt;chr&gt; | AnnualIncome &lt;int&gt; | FamilyMembers &lt;int&gt; | ChronicDiseases &lt;int&gt; | FrequentFlyer &lt;chr&gt; | EverTravelledAbroad &lt;chr&gt; | TravelInsurance &lt;int&gt; |\n",
       "|---|---|---|---|---|---|---|---|---|---|\n",
       "| 1 | 31 | Government Sector            | Yes |  400000 | 6 | 1 | No  | No | 0 |\n",
       "| 2 | 31 | Private Sector/Self Employed | Yes | 1250000 | 7 | 0 | No  | No | 0 |\n",
       "| 3 | 34 | Private Sector/Self Employed | Yes |  500000 | 4 | 1 | No  | No | 1 |\n",
       "| 4 | 28 | Private Sector/Self Employed | Yes |  700000 | 3 | 1 | No  | No | 0 |\n",
       "| 5 | 28 | Private Sector/Self Employed | Yes |  700000 | 8 | 1 | Yes | No | 0 |\n",
       "| 6 | 25 | Private Sector/Self Employed | No  | 1150000 | 4 | 0 | No  | No | 0 |\n",
       "\n"
      ],
      "text/plain": [
       "  Age Employment.Type              GraduateOrNot AnnualIncome FamilyMembers\n",
       "1 31  Government Sector            Yes            400000      6            \n",
       "2 31  Private Sector/Self Employed Yes           1250000      7            \n",
       "3 34  Private Sector/Self Employed Yes            500000      4            \n",
       "4 28  Private Sector/Self Employed Yes            700000      3            \n",
       "5 28  Private Sector/Self Employed Yes            700000      8            \n",
       "6 25  Private Sector/Self Employed No            1150000      4            \n",
       "  ChronicDiseases FrequentFlyer EverTravelledAbroad TravelInsurance\n",
       "1 1               No            No                  0              \n",
       "2 0               No            No                  0              \n",
       "3 1               No            No                  1              \n",
       "4 1               No            No                  0              \n",
       "5 1               Yes           No                  0              \n",
       "6 0               No            No                  0              "
      ]
     },
     "metadata": {},
     "output_type": "display_data"
    }
   ],
   "source": [
    "travel <- read.csv(\"TravelInsurancePrediction.csv\")\n",
    "travel <- travel[, -1]\n",
    "head(travel)"
   ]
  },
  {
   "cell_type": "code",
   "execution_count": null,
   "metadata": {
    "colab": {
     "base_uri": "https://localhost:8080/",
     "height": 34
    },
    "id": "sqt3xnhDaDkW",
    "outputId": "4ce9f49b-522d-49ff-b047-817cae487e44"
   },
   "outputs": [
    {
     "data": {
      "text/html": [
       "0"
      ],
      "text/latex": [
       "0"
      ],
      "text/markdown": [
       "0"
      ],
      "text/plain": [
       "[1] 0"
      ]
     },
     "metadata": {},
     "output_type": "display_data"
    }
   ],
   "source": [
    "sum(is.na(travel))"
   ]
  },
  {
   "cell_type": "markdown",
   "metadata": {
    "id": "pdqdaeBm_HNJ"
   },
   "source": [
    "### Chi Square Correlation Test"
   ]
  },
  {
   "cell_type": "code",
   "execution_count": null,
   "metadata": {
    "colab": {
     "base_uri": "https://localhost:8080/",
     "height": 104
    },
    "id": "jsBeyDa0ctTE",
    "outputId": "91a1f743-c348-4c5f-cd84-0b177eb32172"
   },
   "outputs": [
    {
     "data": {
      "text/plain": [
       "\n",
       "\tPearson's Chi-squared test with Yates' continuity correction\n",
       "\n",
       "data:  travel$Employment.Type and travel$TravelInsurance\n",
       "X-squared = 42.754, df = 1, p-value = 6.208e-11\n"
      ]
     },
     "metadata": {},
     "output_type": "display_data"
    }
   ],
   "source": [
    "chisq.test(travel$Employment.Type, travel$TravelInsurance)"
   ]
  },
  {
   "cell_type": "code",
   "execution_count": null,
   "metadata": {
    "colab": {
     "base_uri": "https://localhost:8080/",
     "height": 104
    },
    "id": "mTrVIf81bbVO",
    "outputId": "6b83fc39-3ade-4764-f0be-1399da3184e2"
   },
   "outputs": [
    {
     "data": {
      "text/plain": [
       "\n",
       "\tPearson's Chi-squared test with Yates' continuity correction\n",
       "\n",
       "data:  travel$GraduateOrNot and travel$TravelInsurance\n",
       "X-squared = 0.60551, df = 1, p-value = 0.4365\n"
      ]
     },
     "metadata": {},
     "output_type": "display_data"
    }
   ],
   "source": [
    "chisq.test(travel$GraduateOrNot, travel$TravelInsurance)"
   ]
  },
  {
   "cell_type": "code",
   "execution_count": null,
   "metadata": {
    "colab": {
     "base_uri": "https://localhost:8080/",
     "height": 104
    },
    "id": "fxoVQKG0bbH8",
    "outputId": "6fb49561-8012-4afb-b06f-f42707a4b77c"
   },
   "outputs": [
    {
     "data": {
      "text/plain": [
       "\n",
       "\tPearson's Chi-squared test with Yates' continuity correction\n",
       "\n",
       "data:  travel$ChronicDiseases and travel$TravelInsurance\n",
       "X-squared = 0.57541, df = 1, p-value = 0.4481\n"
      ]
     },
     "metadata": {},
     "output_type": "display_data"
    }
   ],
   "source": [
    "chisq.test(travel$ChronicDiseases, travel$TravelInsurance)"
   ]
  },
  {
   "cell_type": "code",
   "execution_count": null,
   "metadata": {
    "colab": {
     "base_uri": "https://localhost:8080/",
     "height": 104
    },
    "id": "Dm5ByhRGbbDM",
    "outputId": "eb881ce5-d4cf-403f-d530-627b4c1ce3e0"
   },
   "outputs": [
    {
     "data": {
      "text/plain": [
       "\n",
       "\tPearson's Chi-squared test with Yates' continuity correction\n",
       "\n",
       "data:  travel$FrequentFlyer and travel$TravelInsurance\n",
       "X-squared = 105.86, df = 1, p-value < 2.2e-16\n"
      ]
     },
     "metadata": {},
     "output_type": "display_data"
    }
   ],
   "source": [
    "chisq.test(travel$FrequentFlyer, travel$TravelInsurance)"
   ]
  },
  {
   "cell_type": "code",
   "execution_count": null,
   "metadata": {
    "colab": {
     "base_uri": "https://localhost:8080/",
     "height": 104
    },
    "id": "iGtRSLHGba9V",
    "outputId": "6565b23f-f117-4d9b-8b28-0f546eb2d0a6",
    "scrolled": true
   },
   "outputs": [
    {
     "data": {
      "text/plain": [
       "\n",
       "\tPearson's Chi-squared test with Yates' continuity correction\n",
       "\n",
       "data:  travel$EverTravelledAbroad and travel$TravelInsurance\n",
       "X-squared = 370.56, df = 1, p-value < 2.2e-16\n"
      ]
     },
     "metadata": {},
     "output_type": "display_data"
    }
   ],
   "source": [
    "chisq.test(travel$EverTravelledAbroad, travel$TravelInsurance)"
   ]
  },
  {
   "cell_type": "markdown",
   "metadata": {},
   "source": [
    "The Chi-Squared independence test is conducted to test and see if a variable is independent of other variables or is dependent. The following are the results of the Chi-Squared independence test that has been carried out using the variables Employment Type, Graduate Or Not, Chronic Diseases, Frequent Flyer and Ever Traveled Abroad. <br><br>The results of the Chi-Squared independence test show that only the variables **Graduate Or Not** and **Chronic Diseases** are independent because they have a p-value of more than 0.05."
   ]
  },
  {
   "cell_type": "markdown",
   "metadata": {
    "id": "PJxvY6Ig_qji"
   },
   "source": [
    "### Pearson Correlation Test"
   ]
  },
  {
   "cell_type": "code",
   "execution_count": null,
   "metadata": {
    "colab": {
     "base_uri": "https://localhost:8080/"
    },
    "id": "z4NtGzoj_1HD",
    "outputId": "a0b823d4-1709-44f4-d3d2-b314243d080e"
   },
   "outputs": [
    {
     "name": "stdout",
     "output_type": "stream",
     "text": [
      "       cor \n",
      "0.06105985 \n",
      "[1] 0.006476684\n"
     ]
    }
   ],
   "source": [
    "# Age\n",
    "print(cor.test(travel$Age, travel$TravelInsurance)$estimate)\n",
    "print(cor.test(travel$Age, travel$TravelInsurance)$p.value)"
   ]
  },
  {
   "cell_type": "code",
   "execution_count": null,
   "metadata": {
    "colab": {
     "base_uri": "https://localhost:8080/"
    },
    "id": "KGMJPjbSGV-t",
    "outputId": "4ad906a5-af64-4708-b3d5-6cb05dba42df"
   },
   "outputs": [
    {
     "name": "stdout",
     "output_type": "stream",
     "text": [
      "      cor \n",
      "0.3967632 \n",
      "[1] 6.635018e-76\n"
     ]
    }
   ],
   "source": [
    "# Annual Income\n",
    "print(cor.test(travel$AnnualIncome, travel$TravelInsurance)$estimate)\n",
    "print(cor.test(travel$AnnualIncome, travel$TravelInsurance)$p.value)"
   ]
  },
  {
   "cell_type": "code",
   "execution_count": null,
   "metadata": {
    "colab": {
     "base_uri": "https://localhost:8080/"
    },
    "id": "KtBhKZVQa0Ne",
    "outputId": "5492077b-68f0-428c-bace-b3e9de117c71",
    "scrolled": true
   },
   "outputs": [
    {
     "name": "stdout",
     "output_type": "stream",
     "text": [
      "       cor \n",
      "0.07990901 \n",
      "[1] 0.000363208\n"
     ]
    }
   ],
   "source": [
    "# Family Members\n",
    "print(cor.test(travel$FamilyMembers, travel$TravelInsurance)$estimate)\n",
    "print(cor.test(travel$FamilyMembers, travel$TravelInsurance)$p.value)"
   ]
  },
  {
   "cell_type": "markdown",
   "metadata": {},
   "source": [
    "Pearson correlation test was conducted to test and see the level of correlation between variables with numeric data types. Above is the correlation between the predictor variables Age, Annual Income, and Family Members on the response variable Travel Insurance. <br><br>The three predictor variables have a p-value much smaller than 0.05. This means that these predictor variables have an effect on the response variable, Travel Insurance. The correlation coefficient value shows how much correlation occurs. The **Age** and **Family Members** variables have a weak correlation level (below 0.3) and the **Annual Income** variable has a low correlation level (between 0.3 and 0.5)."
   ]
  },
  {
   "cell_type": "markdown",
   "metadata": {
    "id": "lSIwWLOJANNX"
   },
   "source": [
    "### Binary Logistic Regression Model"
   ]
  },
  {
   "cell_type": "code",
   "execution_count": null,
   "metadata": {
    "id": "znKIZ--W6eGd"
   },
   "outputs": [],
   "source": [
    "model <- glm(TravelInsurance ~ ., travel, family = binomial)"
   ]
  },
  {
   "cell_type": "code",
   "execution_count": null,
   "metadata": {
    "colab": {
     "base_uri": "https://localhost:8080/",
     "height": 624
    },
    "id": "y2ko3w5K7HKL",
    "outputId": "b71bfc0c-c736-4b54-8c90-98d77a29f810"
   },
   "outputs": [
    {
     "data": {
      "text/plain": [
       "\n",
       "Call:\n",
       "glm(formula = TravelInsurance ~ ., family = binomial, data = travel)\n",
       "\n",
       "Coefficients:\n",
       "                                              Estimate Std. Error z value\n",
       "(Intercept)                                 -5.405e+00  6.340e-01  -8.525\n",
       "Age                                          7.326e-02  1.851e-02   3.958\n",
       "Employment.TypePrivate Sector/Self Employed  9.857e-02  1.326e-01   0.743\n",
       "GraduateOrNotYes                            -1.813e-01  1.562e-01  -1.160\n",
       "AnnualIncome                                 1.565e-06  1.769e-07   8.844\n",
       "FamilyMembers                                1.529e-01  3.359e-02   4.551\n",
       "ChronicDiseases                              8.999e-02  1.211e-01   0.743\n",
       "FrequentFlyerYes                             4.595e-01  1.365e-01   3.366\n",
       "EverTravelledAbroadYes                       1.718e+00  1.532e-01  11.211\n",
       "                                            Pr(>|z|)    \n",
       "(Intercept)                                  < 2e-16 ***\n",
       "Age                                         7.57e-05 ***\n",
       "Employment.TypePrivate Sector/Self Employed 0.457220    \n",
       "GraduateOrNotYes                            0.245859    \n",
       "AnnualIncome                                 < 2e-16 ***\n",
       "FamilyMembers                               5.34e-06 ***\n",
       "ChronicDiseases                             0.457497    \n",
       "FrequentFlyerYes                            0.000764 ***\n",
       "EverTravelledAbroadYes                       < 2e-16 ***\n",
       "---\n",
       "Signif. codes:  0 ‘***’ 0.001 ‘**’ 0.01 ‘*’ 0.05 ‘.’ 0.1 ‘ ’ 1\n",
       "\n",
       "(Dispersion parameter for binomial family taken to be 1)\n",
       "\n",
       "    Null deviance: 2590.5  on 1986  degrees of freedom\n",
       "Residual deviance: 2068.3  on 1978  degrees of freedom\n",
       "AIC: 2086.3\n",
       "\n",
       "Number of Fisher Scoring iterations: 4\n"
      ]
     },
     "metadata": {},
     "output_type": "display_data"
    }
   ],
   "source": [
    "summary(model)"
   ]
  },
  {
   "cell_type": "markdown",
   "metadata": {
    "id": "x9nM9OCl_zHj"
   },
   "source": [
    "### Multicollinearity Test"
   ]
  },
  {
   "cell_type": "code",
   "execution_count": null,
   "metadata": {
    "colab": {
     "base_uri": "https://localhost:8080/"
    },
    "id": "8-sgAFJF-Rgc",
    "outputId": "e58ef110-cdfe-4c8d-9e22-76ae83f56deb",
    "scrolled": true
   },
   "outputs": [
    {
     "name": "stdout",
     "output_type": "stream",
     "text": [
      "                Age     Employment.Type       GraduateOrNot        AnnualIncome \n",
      "           1.044710            1.146495            1.059921            1.311309 \n",
      "      FamilyMembers     ChronicDiseases       FrequentFlyer EverTravelledAbroad \n",
      "           1.017244            1.005954            1.090805            1.156222 \n"
     ]
    }
   ],
   "source": [
    "print(vif(model))"
   ]
  },
  {
   "cell_type": "markdown",
   "metadata": {},
   "source": [
    "All variables have VIF values around 1, which means there is no multicollinearity of the eight predictor variables."
   ]
  },
  {
   "cell_type": "markdown",
   "metadata": {
    "id": "6_S45pnWAsbI"
   },
   "source": [
    "### Likelihood Ratio Significance Test"
   ]
  },
  {
   "cell_type": "code",
   "execution_count": null,
   "metadata": {
    "id": "7wq_WkS6X0VN"
   },
   "outputs": [],
   "source": [
    "null <- glm(TravelInsurance ~ 1, travel, family = binomial)"
   ]
  },
  {
   "cell_type": "code",
   "execution_count": null,
   "metadata": {
    "colab": {
     "base_uri": "https://localhost:8080/",
     "height": 161
    },
    "id": "aEwidbowX-bT",
    "outputId": "89886c69-0502-40cd-8c43-1848da3d1e08",
    "scrolled": false
   },
   "outputs": [
    {
     "data": {
      "text/html": [
       "<table class=\"dataframe\">\n",
       "<caption>A anova: 2 × 5</caption>\n",
       "<thead>\n",
       "\t<tr><th></th><th scope=col>#Df</th><th scope=col>LogLik</th><th scope=col>Df</th><th scope=col>Chisq</th><th scope=col>Pr(&gt;Chisq)</th></tr>\n",
       "\t<tr><th></th><th scope=col>&lt;dbl&gt;</th><th scope=col>&lt;dbl&gt;</th><th scope=col>&lt;dbl&gt;</th><th scope=col>&lt;dbl&gt;</th><th scope=col>&lt;dbl&gt;</th></tr>\n",
       "</thead>\n",
       "<tbody>\n",
       "\t<tr><th scope=row>1</th><td>9</td><td>-1034.157</td><td>NA</td><td>      NA</td><td>           NA</td></tr>\n",
       "\t<tr><th scope=row>2</th><td>1</td><td>-1295.250</td><td>-8</td><td>522.1857</td><td>1.219128e-107</td></tr>\n",
       "</tbody>\n",
       "</table>\n"
      ],
      "text/latex": [
       "A anova: 2 × 5\n",
       "\\begin{tabular}{r|lllll}\n",
       "  & \\#Df & LogLik & Df & Chisq & Pr(>Chisq)\\\\\n",
       "  & <dbl> & <dbl> & <dbl> & <dbl> & <dbl>\\\\\n",
       "\\hline\n",
       "\t1 & 9 & -1034.157 & NA &       NA &            NA\\\\\n",
       "\t2 & 1 & -1295.250 & -8 & 522.1857 & 1.219128e-107\\\\\n",
       "\\end{tabular}\n"
      ],
      "text/markdown": [
       "\n",
       "A anova: 2 × 5\n",
       "\n",
       "| <!--/--> | #Df &lt;dbl&gt; | LogLik &lt;dbl&gt; | Df &lt;dbl&gt; | Chisq &lt;dbl&gt; | Pr(&gt;Chisq) &lt;dbl&gt; |\n",
       "|---|---|---|---|---|---|\n",
       "| 1 | 9 | -1034.157 | NA |       NA |            NA |\n",
       "| 2 | 1 | -1295.250 | -8 | 522.1857 | 1.219128e-107 |\n",
       "\n"
      ],
      "text/plain": [
       "  #Df LogLik    Df Chisq    Pr(>Chisq)   \n",
       "1 9   -1034.157 NA       NA            NA\n",
       "2 1   -1295.250 -8 522.1857 1.219128e-107"
      ]
     },
     "metadata": {},
     "output_type": "display_data"
    }
   ],
   "source": [
    "lrtest(model, null)"
   ]
  },
  {
   "cell_type": "markdown",
   "metadata": {},
   "source": [
    "There is at least one independent variable that affects the dependent variable."
   ]
  },
  {
   "cell_type": "markdown",
   "metadata": {
    "id": "6_S45pnWAsbI"
   },
   "source": [
    "### Wald Significance Test"
   ]
  },
  {
   "cell_type": "code",
   "execution_count": null,
   "metadata": {
    "colab": {
     "base_uri": "https://localhost:8080/",
     "height": 624
    },
    "id": "4LQ8uOnR9vjX",
    "outputId": "82db665c-207d-4f5a-9eea-8546a509664a",
    "scrolled": true
   },
   "outputs": [
    {
     "data": {
      "text/plain": [
       "\n",
       "Call:\n",
       "glm(formula = TravelInsurance ~ ., family = binomial, data = travel)\n",
       "\n",
       "Coefficients:\n",
       "                                              Estimate Std. Error z value\n",
       "(Intercept)                                 -5.405e+00  6.340e-01  -8.525\n",
       "Age                                          7.326e-02  1.851e-02   3.958\n",
       "Employment.TypePrivate Sector/Self Employed  9.857e-02  1.326e-01   0.743\n",
       "GraduateOrNotYes                            -1.813e-01  1.562e-01  -1.160\n",
       "AnnualIncome                                 1.565e-06  1.769e-07   8.844\n",
       "FamilyMembers                                1.529e-01  3.359e-02   4.551\n",
       "ChronicDiseases                              8.999e-02  1.211e-01   0.743\n",
       "FrequentFlyerYes                             4.595e-01  1.365e-01   3.366\n",
       "EverTravelledAbroadYes                       1.718e+00  1.532e-01  11.211\n",
       "                                            Pr(>|z|)    \n",
       "(Intercept)                                  < 2e-16 ***\n",
       "Age                                         7.57e-05 ***\n",
       "Employment.TypePrivate Sector/Self Employed 0.457220    \n",
       "GraduateOrNotYes                            0.245859    \n",
       "AnnualIncome                                 < 2e-16 ***\n",
       "FamilyMembers                               5.34e-06 ***\n",
       "ChronicDiseases                             0.457497    \n",
       "FrequentFlyerYes                            0.000764 ***\n",
       "EverTravelledAbroadYes                       < 2e-16 ***\n",
       "---\n",
       "Signif. codes:  0 ‘***’ 0.001 ‘**’ 0.01 ‘*’ 0.05 ‘.’ 0.1 ‘ ’ 1\n",
       "\n",
       "(Dispersion parameter for binomial family taken to be 1)\n",
       "\n",
       "    Null deviance: 2590.5  on 1986  degrees of freedom\n",
       "Residual deviance: 2068.3  on 1978  degrees of freedom\n",
       "AIC: 2086.3\n",
       "\n",
       "Number of Fisher Scoring iterations: 4\n"
      ]
     },
     "metadata": {},
     "output_type": "display_data"
    }
   ],
   "source": [
    "summary(model)"
   ]
  },
  {
   "cell_type": "markdown",
   "metadata": {},
   "source": [
    "The variables that affect the Travel Insurance variable are **Age**, **Annual Income**, **Family Members**, **Frequent Flyer**, and **Ever Traveled Abroad**."
   ]
  },
  {
   "cell_type": "markdown",
   "metadata": {
    "id": "IYFwJxO3At95"
   },
   "source": [
    "### Odds Ratio"
   ]
  },
  {
   "cell_type": "code",
   "execution_count": null,
   "metadata": {
    "colab": {
     "base_uri": "https://localhost:8080/"
    },
    "id": "6Bp8CvqAAwX4",
    "outputId": "6fd3ad7b-133e-42bf-bc5e-d329bc473c61"
   },
   "outputs": [
    {
     "name": "stdout",
     "output_type": "stream",
     "text": [
      "                                (Intercept) \n",
      "                                 0.00449543 \n",
      "                                        Age \n",
      "                                 1.07601556 \n",
      "Employment.TypePrivate Sector/Self Employed \n",
      "                                 1.10359715 \n",
      "                           GraduateOrNotYes \n",
      "                                 0.83418503 \n",
      "                               AnnualIncome \n",
      "                                 1.00000156 \n",
      "                              FamilyMembers \n",
      "                                 1.16518482 \n",
      "                            ChronicDiseases \n",
      "                                 1.09416229 \n",
      "                           FrequentFlyerYes \n",
      "                                 1.58327846 \n",
      "                     EverTravelledAbroadYes \n",
      "                                 5.57096471 \n"
     ]
    }
   ],
   "source": [
    "odds_ratio = exp(coef(model))\n",
    "print(odds_ratio)"
   ]
  },
  {
   "cell_type": "markdown",
   "metadata": {},
   "source": [
    "The five (5) independent variables that have the most influence on the likelihood of someone having travel insurance are the variables **Ever Traveled Abroad**, **Frequent Flyer**, **Graduate or Not**, **Family Members**, **Employment Type**, and **Chronic Diseases**."
   ]
  }
 ],
 "metadata": {
  "colab": {
   "provenance": []
  },
  "kernelspec": {
   "display_name": "Python 3",
   "language": "python",
   "name": "python3"
  },
  "language_info": {
   "codemirror_mode": {
    "name": "ipython",
    "version": 3
   },
   "file_extension": ".py",
   "mimetype": "text/x-python",
   "name": "python",
   "nbconvert_exporter": "python",
   "pygments_lexer": "ipython3",
   "version": "3.8.8"
  }
 },
 "nbformat": 4,
 "nbformat_minor": 1
}
